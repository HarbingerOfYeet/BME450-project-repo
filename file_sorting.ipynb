{
 "cells": [
  {
   "cell_type": "code",
   "execution_count": 56,
   "metadata": {},
   "outputs": [],
   "source": [
    "import pandas as pd\n",
    "import shutil\n",
    "import os"
   ]
  },
  {
   "cell_type": "code",
   "execution_count": 57,
   "metadata": {},
   "outputs": [],
   "source": [
    "df = pd.read_csv(\"../filename_age.csv\")"
   ]
  },
  {
   "cell_type": "code",
   "execution_count": 58,
   "metadata": {},
   "outputs": [
    {
     "data": {
      "text/html": [
       "<div>\n",
       "<style scoped>\n",
       "    .dataframe tbody tr th:only-of-type {\n",
       "        vertical-align: middle;\n",
       "    }\n",
       "\n",
       "    .dataframe tbody tr th {\n",
       "        vertical-align: top;\n",
       "    }\n",
       "\n",
       "    .dataframe thead th {\n",
       "        text-align: right;\n",
       "    }\n",
       "</style>\n",
       "<table border=\"1\" class=\"dataframe\">\n",
       "  <thead>\n",
       "    <tr style=\"text-align: right;\">\n",
       "      <th></th>\n",
       "      <th>path</th>\n",
       "      <th>age</th>\n",
       "    </tr>\n",
       "  </thead>\n",
       "  <tbody>\n",
       "    <tr>\n",
       "      <th>0</th>\n",
       "      <td>common_voice_en_34925858.mp3</td>\n",
       "      <td>thirties</td>\n",
       "    </tr>\n",
       "    <tr>\n",
       "      <th>1</th>\n",
       "      <td>common_voice_en_34925859.mp3</td>\n",
       "      <td>thirties</td>\n",
       "    </tr>\n",
       "    <tr>\n",
       "      <th>2</th>\n",
       "      <td>common_voice_en_34925860.mp3</td>\n",
       "      <td>thirties</td>\n",
       "    </tr>\n",
       "    <tr>\n",
       "      <th>3</th>\n",
       "      <td>common_voice_en_34925870.mp3</td>\n",
       "      <td>thirties</td>\n",
       "    </tr>\n",
       "    <tr>\n",
       "      <th>4</th>\n",
       "      <td>common_voice_en_34925871.mp3</td>\n",
       "      <td>thirties</td>\n",
       "    </tr>\n",
       "    <tr>\n",
       "      <th>...</th>\n",
       "      <td>...</td>\n",
       "      <td>...</td>\n",
       "    </tr>\n",
       "    <tr>\n",
       "      <th>5778</th>\n",
       "      <td>common_voice_en_36522293.mp3</td>\n",
       "      <td>twenties</td>\n",
       "    </tr>\n",
       "    <tr>\n",
       "      <th>5779</th>\n",
       "      <td>common_voice_en_36522609.mp3</td>\n",
       "      <td>twenties</td>\n",
       "    </tr>\n",
       "    <tr>\n",
       "      <th>5780</th>\n",
       "      <td>common_voice_en_36527772.mp3</td>\n",
       "      <td>teens</td>\n",
       "    </tr>\n",
       "    <tr>\n",
       "      <th>5781</th>\n",
       "      <td>common_voice_en_36527949.mp3</td>\n",
       "      <td>twenties</td>\n",
       "    </tr>\n",
       "    <tr>\n",
       "      <th>5782</th>\n",
       "      <td>common_voice_en_36527952.mp3</td>\n",
       "      <td>twenties</td>\n",
       "    </tr>\n",
       "  </tbody>\n",
       "</table>\n",
       "<p>5783 rows × 2 columns</p>\n",
       "</div>"
      ],
      "text/plain": [
       "                              path       age\n",
       "0     common_voice_en_34925858.mp3  thirties\n",
       "1     common_voice_en_34925859.mp3  thirties\n",
       "2     common_voice_en_34925860.mp3  thirties\n",
       "3     common_voice_en_34925870.mp3  thirties\n",
       "4     common_voice_en_34925871.mp3  thirties\n",
       "...                            ...       ...\n",
       "5778  common_voice_en_36522293.mp3  twenties\n",
       "5779  common_voice_en_36522609.mp3  twenties\n",
       "5780  common_voice_en_36527772.mp3     teens\n",
       "5781  common_voice_en_36527949.mp3  twenties\n",
       "5782  common_voice_en_36527952.mp3  twenties\n",
       "\n",
       "[5783 rows x 2 columns]"
      ]
     },
     "execution_count": 58,
     "metadata": {},
     "output_type": "execute_result"
    }
   ],
   "source": [
    "df"
   ]
  },
  {
   "cell_type": "code",
   "execution_count": 72,
   "metadata": {},
   "outputs": [],
   "source": [
    "# loop through all files in wav_training_data\n",
    "for filename in os.listdir(\"wav_training_data\"):\n",
    "\n",
    "    mp3_filename = filename[:-3] + \"mp3\"\n",
    "\n",
    "    # extract the age value associated with the file\n",
    "    age = df[df['path'] == mp3_filename]['age'].tolist()\n",
    "    \n",
    "    # move the file to the folder associated with its age\n",
    "    old_path = \"wav_training_data/\" + filename\n",
    "    new_path = age[0] + \"/\" + filename\n",
    "    shutil.move(old_path, new_path)"
   ]
  }
 ],
 "metadata": {
  "kernelspec": {
   "display_name": "Python 3",
   "language": "python",
   "name": "python3"
  },
  "language_info": {
   "codemirror_mode": {
    "name": "ipython",
    "version": 3
   },
   "file_extension": ".py",
   "mimetype": "text/x-python",
   "name": "python",
   "nbconvert_exporter": "python",
   "pygments_lexer": "ipython3",
   "version": "3.10.6"
  },
  "orig_nbformat": 4
 },
 "nbformat": 4,
 "nbformat_minor": 2
}
